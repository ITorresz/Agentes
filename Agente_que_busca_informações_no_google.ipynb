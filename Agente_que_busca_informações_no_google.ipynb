{
  "nbformat": 4,
  "nbformat_minor": 0,
  "metadata": {
    "colab": {
      "provenance": [],
      "include_colab_link": true
    },
    "kernelspec": {
      "name": "python3",
      "display_name": "Python 3"
    },
    "language_info": {
      "name": "python"
    }
  },
  "cells": [
    {
      "cell_type": "markdown",
      "metadata": {
        "id": "view-in-github",
        "colab_type": "text"
      },
      "source": [
        "<a href=\"https://colab.research.google.com/github/ITorresz/Agentes/blob/main/Agente_que_busca_informa%C3%A7%C3%B5es_no_google.ipynb\" target=\"_parent\"><img src=\"https://colab.research.google.com/assets/colab-badge.svg\" alt=\"Open In Colab\"/></a>"
      ]
    },
    {
      "cell_type": "code",
      "source": [
        "%pip -q install google-genai"
      ],
      "metadata": {
        "id": "UCCbECexLk_h"
      },
      "execution_count": 50,
      "outputs": []
    },
    {
      "cell_type": "code",
      "source": [
        "# Configura a API Key do Google Gemini\n",
        "\n",
        "import os\n",
        "from google.colab import userdata\n",
        "\n",
        "os.environ[\"GOOGLE_API_KEY\"] = userdata.get('GOOGLE_API_KEY')"
      ],
      "metadata": {
        "id": "NfCqHo1tLk8P"
      },
      "execution_count": 51,
      "outputs": []
    },
    {
      "cell_type": "code",
      "source": [
        "# Configura o cliente da SDK do Gemini\n",
        "\n",
        "from google import genai\n",
        "\n",
        "client = genai.Client()\n",
        "\n",
        "MODEL_ID = \"gemini-2.0-flash\""
      ],
      "metadata": {
        "id": "bV4w0H5TLk5g"
      },
      "execution_count": 52,
      "outputs": []
    },
    {
      "cell_type": "code",
      "source": [
        "# Pergunta ao Gemini uma informação mais recente que seu conhecimento\n",
        "\n",
        "from IPython.display import HTML, Markdown\n",
        "\n",
        "# Perguntar pro modelo quando é a próxima imersão de IA ###############################################\n",
        "resposta = client.models.generate_content(\n",
        "    model=MODEL_ID,\n",
        "    contents=\"Quando é a próxima Imersão IA com google gemini da alura?\"\n",
        ")\n",
        "\n",
        "# Exibe a resposta na tela\n",
        "display(Markdown(f\"Resposta:\\n {resposta.text}\"))"
      ],
      "metadata": {
        "id": "HwVP7Xi34Zuw",
        "colab": {
          "base_uri": "https://localhost:8080/",
          "height": 174
        },
        "outputId": "7c8766b9-a10d-4216-c206-9511364abd30"
      },
      "execution_count": 53,
      "outputs": [
        {
          "output_type": "display_data",
          "data": {
            "text/plain": [
              "<IPython.core.display.Markdown object>"
            ],
            "text/markdown": "Resposta:\n A Alura não tem uma data fixa para a Imersão IA com Google Gemini. A melhor forma de saber quando a próxima edição será realizada é:\n\n*   **Acompanhar as redes sociais da Alura:** Fique de olho no Instagram, LinkedIn, Twitter e Facebook da Alura. Eles costumam anunciar as novas edições das Imersões por lá.\n*   **Verificar a página de Imersões da Alura:** Acesse a página de Imersões no site da Alura e veja se há alguma Imersão IA com Google Gemini programada: [https://www.alura.com.br/imersao](https://www.alura.com.br/imersao)\n*   **Assinar a newsletter da Alura:** Ao se inscrever na newsletter, você receberá informações sobre os próximos cursos, eventos e Imersões.\n*   **Entrar no servidor do Discord da comunidade da Alura:** A comunidade da Alura no Discord pode ter informações sobre as próximas edições das Imersões."
          },
          "metadata": {}
        }
      ]
    },
    {
      "cell_type": "code",
      "source": [
        "# Pergunta ao Gemini uma informação utilizando a busca do Google como contexto\n",
        "\n",
        "response = client.models.generate_content(\n",
        "    model=MODEL_ID,\n",
        "    contents='Quando é a próxima Imersão IA com Google Gemini da Alura?',\n",
        "    config={\"tools\": [{\"google_search\": {}}]}\n",
        "    # Inserir a tool de busca do Google ###############################################\n",
        ")\n",
        "\n",
        "# Exibe a resposta na tela\n",
        "display(Markdown(f\"Resposta:\\n {response.text}\"))"
      ],
      "metadata": {
        "id": "yXaZd7iZ4ftw",
        "colab": {
          "base_uri": "https://localhost:8080/",
          "height": 64
        },
        "outputId": "0d5f94ea-d4b1-41ad-bce6-b2ef92123e72"
      },
      "execution_count": 54,
      "outputs": [
        {
          "output_type": "display_data",
          "data": {
            "text/plain": [
              "<IPython.core.display.Markdown object>"
            ],
            "text/markdown": "Resposta:\n A próxima Imersão IA com Google Gemini da Alura acontecerá entre os dias 12 e 16 de maio de 2025. As inscrições estão abertas até o dia 11 de maio. O curso é dividido em cinco aulas online e ensina a desenvolver projetos no Gemini, o assistente de IA do Google. O curso é gratuito e oferece certificado."
          },
          "metadata": {}
        }
      ]
    },
    {
      "cell_type": "code",
      "source": [
        "# Exibe a busca\n",
        "print(f\"Busca realizada: {response.candidates[0].grounding_metadata.web_search_queries}\")\n",
        "# Exibe as URLs nas quais ele se baseou\n",
        "print(f\"Páginas utilizadas na resposta: {', '.join([site.web.title for site in response.candidates[0].grounding_metadata.grounding_chunks])}\")\n",
        "print()\n",
        "display(HTML(response.candidates[0].grounding_metadata.search_entry_point.rendered_content))"
      ],
      "metadata": {
        "id": "xHSNlTd84heJ",
        "colab": {
          "base_uri": "https://localhost:8080/",
          "height": 117
        },
        "outputId": "7090dee4-2464-415f-cae2-afd2f838fb6f"
      },
      "execution_count": 55,
      "outputs": [
        {
          "output_type": "stream",
          "name": "stdout",
          "text": [
            "Busca realizada: ['Alura Imersão IA com Google Gemini data']\n",
            "Páginas utilizadas na resposta: alura.com.br, tecmundo.com.br\n",
            "\n"
          ]
        },
        {
          "output_type": "display_data",
          "data": {
            "text/plain": [
              "<IPython.core.display.HTML object>"
            ],
            "text/html": [
              "<style>\n",
              ".container {\n",
              "  align-items: center;\n",
              "  border-radius: 8px;\n",
              "  display: flex;\n",
              "  font-family: Google Sans, Roboto, sans-serif;\n",
              "  font-size: 14px;\n",
              "  line-height: 20px;\n",
              "  padding: 8px 12px;\n",
              "}\n",
              ".chip {\n",
              "  display: inline-block;\n",
              "  border: solid 1px;\n",
              "  border-radius: 16px;\n",
              "  min-width: 14px;\n",
              "  padding: 5px 16px;\n",
              "  text-align: center;\n",
              "  user-select: none;\n",
              "  margin: 0 8px;\n",
              "  -webkit-tap-highlight-color: transparent;\n",
              "}\n",
              ".carousel {\n",
              "  overflow: auto;\n",
              "  scrollbar-width: none;\n",
              "  white-space: nowrap;\n",
              "  margin-right: -12px;\n",
              "}\n",
              ".headline {\n",
              "  display: flex;\n",
              "  margin-right: 4px;\n",
              "}\n",
              ".gradient-container {\n",
              "  position: relative;\n",
              "}\n",
              ".gradient {\n",
              "  position: absolute;\n",
              "  transform: translate(3px, -9px);\n",
              "  height: 36px;\n",
              "  width: 9px;\n",
              "}\n",
              "@media (prefers-color-scheme: light) {\n",
              "  .container {\n",
              "    background-color: #fafafa;\n",
              "    box-shadow: 0 0 0 1px #0000000f;\n",
              "  }\n",
              "  .headline-label {\n",
              "    color: #1f1f1f;\n",
              "  }\n",
              "  .chip {\n",
              "    background-color: #ffffff;\n",
              "    border-color: #d2d2d2;\n",
              "    color: #5e5e5e;\n",
              "    text-decoration: none;\n",
              "  }\n",
              "  .chip:hover {\n",
              "    background-color: #f2f2f2;\n",
              "  }\n",
              "  .chip:focus {\n",
              "    background-color: #f2f2f2;\n",
              "  }\n",
              "  .chip:active {\n",
              "    background-color: #d8d8d8;\n",
              "    border-color: #b6b6b6;\n",
              "  }\n",
              "  .logo-dark {\n",
              "    display: none;\n",
              "  }\n",
              "  .gradient {\n",
              "    background: linear-gradient(90deg, #fafafa 15%, #fafafa00 100%);\n",
              "  }\n",
              "}\n",
              "@media (prefers-color-scheme: dark) {\n",
              "  .container {\n",
              "    background-color: #1f1f1f;\n",
              "    box-shadow: 0 0 0 1px #ffffff26;\n",
              "  }\n",
              "  .headline-label {\n",
              "    color: #fff;\n",
              "  }\n",
              "  .chip {\n",
              "    background-color: #2c2c2c;\n",
              "    border-color: #3c4043;\n",
              "    color: #fff;\n",
              "    text-decoration: none;\n",
              "  }\n",
              "  .chip:hover {\n",
              "    background-color: #353536;\n",
              "  }\n",
              "  .chip:focus {\n",
              "    background-color: #353536;\n",
              "  }\n",
              "  .chip:active {\n",
              "    background-color: #464849;\n",
              "    border-color: #53575b;\n",
              "  }\n",
              "  .logo-light {\n",
              "    display: none;\n",
              "  }\n",
              "  .gradient {\n",
              "    background: linear-gradient(90deg, #1f1f1f 15%, #1f1f1f00 100%);\n",
              "  }\n",
              "}\n",
              "</style>\n",
              "<div class=\"container\">\n",
              "  <div class=\"headline\">\n",
              "    <svg class=\"logo-light\" width=\"18\" height=\"18\" viewBox=\"9 9 35 35\" fill=\"none\" xmlns=\"http://www.w3.org/2000/svg\">\n",
              "      <path fill-rule=\"evenodd\" clip-rule=\"evenodd\" d=\"M42.8622 27.0064C42.8622 25.7839 42.7525 24.6084 42.5487 23.4799H26.3109V30.1568H35.5897C35.1821 32.3041 33.9596 34.1222 32.1258 35.3448V39.6864H37.7213C40.9814 36.677 42.8622 32.2571 42.8622 27.0064V27.0064Z\" fill=\"#4285F4\"/>\n",
              "      <path fill-rule=\"evenodd\" clip-rule=\"evenodd\" d=\"M26.3109 43.8555C30.9659 43.8555 34.8687 42.3195 37.7213 39.6863L32.1258 35.3447C30.5898 36.3792 28.6306 37.0061 26.3109 37.0061C21.8282 37.0061 18.0195 33.9811 16.6559 29.906H10.9194V34.3573C13.7563 39.9841 19.5712 43.8555 26.3109 43.8555V43.8555Z\" fill=\"#34A853\"/>\n",
              "      <path fill-rule=\"evenodd\" clip-rule=\"evenodd\" d=\"M16.6559 29.8904C16.3111 28.8559 16.1074 27.7588 16.1074 26.6146C16.1074 25.4704 16.3111 24.3733 16.6559 23.3388V18.8875H10.9194C9.74388 21.2072 9.06992 23.8247 9.06992 26.6146C9.06992 29.4045 9.74388 32.022 10.9194 34.3417L15.3864 30.8621L16.6559 29.8904V29.8904Z\" fill=\"#FBBC05\"/>\n",
              "      <path fill-rule=\"evenodd\" clip-rule=\"evenodd\" d=\"M26.3109 16.2386C28.85 16.2386 31.107 17.1164 32.9095 18.8091L37.8466 13.8719C34.853 11.082 30.9659 9.3736 26.3109 9.3736C19.5712 9.3736 13.7563 13.245 10.9194 18.8875L16.6559 23.3388C18.0195 19.2636 21.8282 16.2386 26.3109 16.2386V16.2386Z\" fill=\"#EA4335\"/>\n",
              "    </svg>\n",
              "    <svg class=\"logo-dark\" width=\"18\" height=\"18\" viewBox=\"0 0 48 48\" xmlns=\"http://www.w3.org/2000/svg\">\n",
              "      <circle cx=\"24\" cy=\"23\" fill=\"#FFF\" r=\"22\"/>\n",
              "      <path d=\"M33.76 34.26c2.75-2.56 4.49-6.37 4.49-11.26 0-.89-.08-1.84-.29-3H24.01v5.99h8.03c-.4 2.02-1.5 3.56-3.07 4.56v.75l3.91 2.97h.88z\" fill=\"#4285F4\"/>\n",
              "      <path d=\"M15.58 25.77A8.845 8.845 0 0 0 24 31.86c1.92 0 3.62-.46 4.97-1.31l4.79 3.71C31.14 36.7 27.65 38 24 38c-5.93 0-11.01-3.4-13.45-8.36l.17-1.01 4.06-2.85h.8z\" fill=\"#34A853\"/>\n",
              "      <path d=\"M15.59 20.21a8.864 8.864 0 0 0 0 5.58l-5.03 3.86c-.98-2-1.53-4.25-1.53-6.64 0-2.39.55-4.64 1.53-6.64l1-.22 3.81 2.98.22 1.08z\" fill=\"#FBBC05\"/>\n",
              "      <path d=\"M24 14.14c2.11 0 4.02.75 5.52 1.98l4.36-4.36C31.22 9.43 27.81 8 24 8c-5.93 0-11.01 3.4-13.45 8.36l5.03 3.85A8.86 8.86 0 0 1 24 14.14z\" fill=\"#EA4335\"/>\n",
              "    </svg>\n",
              "    <div class=\"gradient-container\"><div class=\"gradient\"></div></div>\n",
              "  </div>\n",
              "  <div class=\"carousel\">\n",
              "    <a class=\"chip\" href=\"https://vertexaisearch.cloud.google.com/grounding-api-redirect/AbF9wXF04zOcIz6jdsaEGBUrySmgGj9DPvSNrLNMUdklzXR5pGk3lAD1Dq5_058f3KtJ91ohtqaIjk4fFUBrAGrudD1QznFg65yto6i8FK3QTRWCGVddt97mCqZUxntmx8WTn8Ng9ZiEnMPSVQIjPI92flVW2qN9FAm6Uz1RhQ9BrwC-fxa1fguT-nOzT8RJiSTMNbvU6Y01biO1Nj7y29S4TUIAnPeOoX12DhH2285FVi8=\">Alura Imersão IA com Google Gemini data</a>\n",
              "  </div>\n",
              "</div>\n"
            ]
          },
          "metadata": {}
        }
      ]
    },
    {
      "cell_type": "code",
      "source": [
        "!pip install -q google-adk\n"
      ],
      "metadata": {
        "id": "hvZ3UnPI4jhJ"
      },
      "execution_count": 56,
      "outputs": []
    },
    {
      "cell_type": "code",
      "execution_count": 15,
      "metadata": {
        "id": "aePV2bdfDeoW"
      },
      "outputs": [],
      "source": [
        "from google.adk.agents import Agent\n",
        "from google.adk.runners import Runner\n",
        "from google.adk.sessions import InMemorySessionService\n",
        "from google.adk.tools import google_search\n",
        "from google.genai import types  # Para criar conteúdos (Content e Part)\n",
        "from datetime import date\n",
        "import textwrap # Para formatar melhor a saída de texto\n",
        "from IPython.display import display, Markdown # Para exibir texto formatado no Colab\n",
        "import requests # Para fazer requisições HTTP\n",
        "import warnings\n",
        "\n",
        "warnings.filterwarnings(\"ignore\")"
      ]
    },
    {
      "cell_type": "code",
      "source": [
        "# Função auxiliar que envia uma mensagem para um agente via Runner e retorna a resposta final\n",
        "def call_agent(agent: Agent, message_text: str) -> str:\n",
        "    # Cria um serviço de sessão em memória\n",
        "    session_service = InMemorySessionService()\n",
        "    # Cria uma nova sessão (você pode personalizar os IDs conforme necessário)\n",
        "    session = session_service.create_session(app_name=agent.name, user_id=\"user1\", session_id=\"session1\")\n",
        "    # Cria um Runner para o agente\n",
        "    runner = Runner(agent=agent, app_name=agent.name, session_service=session_service)\n",
        "    # Cria o conteúdo da mensagem de entrada\n",
        "    content = types.Content(role=\"user\", parts=[types.Part(text=message_text)])\n",
        "\n",
        "    final_response = \"\"\n",
        "    # Itera assincronamente pelos eventos retornados durante a execução do agente\n",
        "    for event in runner.run(user_id=\"user1\", session_id=\"session1\", new_message=content):\n",
        "        if event.is_final_response():\n",
        "          for part in event.content.parts:\n",
        "            if part.text is not None:\n",
        "              final_response += part.text\n",
        "              final_response += \"\\n\"\n",
        "    return final_response"
      ],
      "metadata": {
        "id": "_xP4lWhsS5ko"
      },
      "execution_count": 57,
      "outputs": []
    },
    {
      "cell_type": "code",
      "source": [
        "# Função auxiliar para exibir texto formatado em Markdown no Colab\n",
        "def to_markdown(text):\n",
        "  text = text.replace('•', '  *')\n",
        "  return Markdown(textwrap.indent(text, '> ', predicate=lambda _: True))"
      ],
      "metadata": {
        "id": "8dosiodaxfFR"
      },
      "execution_count": 58,
      "outputs": []
    },
    {
      "cell_type": "code",
      "source": [
        "##########################################\n",
        "# --- Agente 1: Buscador de Notícias --- #\n",
        "##########################################\n",
        "def agente_buscador(topico, data_de_hoje):\n",
        "\n",
        "    buscador = Agent(\n",
        "        name=\"agente_buscador\",\n",
        "        model=\"gemini-2.0-flash\",\n",
        "        description=\"Agente que busca informações no Google\",\n",
        "        tools=[google_search],\n",
        "        instruction=\"\"\"\n",
        "        Vocé é um assistente de pesquisa. A sua tarefa é usar a ferramenta de busca do google(google_search)\n",
        "        para recuperar as ultímas notícias de lançamentos muito relevantes sobre o tópico abaixo.\n",
        "        Foque em no maxímo 5 lançamentos relevantes, com base na quantidade e entusiasmo das noticias sobre ele.\n",
        "        Se um tema tiver poucas notícias ou reações entusiasmadas, é possívelo que ele não seja tão relevante assim\n",
        "        e pode ser substítuido por outro tema mais.\n",
        "        Esses lançamentos relevantes deve ser atuais, de no maxímo um mês antes da data de hoje.\n",
        "        \"\"\"\n",
        "    )\n",
        "\n",
        "    entrada_do_agente_buscador = f\"Tópico: {topico}\\nData de hoje: {data_de_hoje}\"\n",
        "    # Executa o agente\n",
        "    lancamentos = call_agent(buscador, entrada_do_agente_buscador)\n",
        "    return lancamentos\n"
      ],
      "metadata": {
        "id": "o8bqIfi_DyH8"
      },
      "execution_count": 59,
      "outputs": []
    },
    {
      "cell_type": "code",
      "source": [
        "################################################\n",
        "# --- Agente 2: Planejador de posts --- #\n",
        "################################################\n",
        "def agente_planejador(topico, lancamentos_buscados):\n",
        "    planejador = Agent(\n",
        "        name=\"agente_planejador\",\n",
        "        model=\"gemini-2.0-flash\",\n",
        "        # Inserir as instruções do Agente Planejador #################################################\n",
        "        instruction=\"\"\"\n",
        "        Você é um planejador de conteúdo, especialista em redes socias. Com base na lista de\n",
        "        lamçamentos mais recentes e relevantes buscador, você deve:\n",
        "        usar a ferramenta de busca do Google (google_search) para criar um plano sobre\n",
        "        quais são os pontos mais relevantes que poderiamos abordar em um post sobre\n",
        "        cada um deles. Voce tambçém pode usar o (google_search) para encontrar mais informações sobre os temas e aprofundar.\n",
        "        Ao final, você irá escolher o tema mais relevante entre eles com base nas suas pesquisas\n",
        "        eretornar esse tema, seus pontos mais relevantes, e um plano com ois assusntos\n",
        "        a serem abordados no post que será escrito posteriormente.\n",
        "        \"\"\",\n",
        "        description=\"Agente que planeja posts\",\n",
        "        tools=[google_search]\n",
        "    )\n",
        "\n",
        "    entrada_do_agente_planejador = f\"Tópico:{topico}\\nLançamentos buscados: {lancamentos_buscados}\"\n",
        "    # Executa o agente\n",
        "    plano_do_post = call_agent(planejador, entrada_do_agente_planejador)\n",
        "    return plano_do_post"
      ],
      "metadata": {
        "id": "y3VO1uo5_ghO"
      },
      "execution_count": 60,
      "outputs": []
    },
    {
      "cell_type": "code",
      "source": [
        "######################################\n",
        "# --- Agente 3: Redator do Post --- #\n",
        "######################################\n",
        "def agente_redator(topico, plano_de_post):\n",
        "    redator = Agent(\n",
        "        name=\"agente_redator\",\n",
        "        model=\"gemini-2.0-flash\",\n",
        "        instruction=\"\"\"\n",
        "            Você é um Redator Criativo especializado em criar posts virais para redes sociais.\n",
        "            Você escreve posts para a empresa Alura, a maior escola online de tecnologia do Brasil.\n",
        "            Utilize o tema fornecido no plano de post e os pontos mais relevantes fornecidos e, com base nisso,\n",
        "            escreva um rascunho de post para Instagram sobre o tema indicado.\n",
        "            O post deve ser engajador, informativo, com linguagem simples e incluir 2 a 4 hashtags no final.\n",
        "            \"\"\",\n",
        "        description=\"Agente redator de posts engajadores para Instagram\"\n",
        "    )\n",
        "    entrada_do_agente_redator = f\"Tópico: {topico}\\nPlano de post: {plano_de_post}\"\n",
        "    # Executa o agente\n",
        "    rascunho = call_agent(redator, entrada_do_agente_redator)\n",
        "    return rascunho"
      ],
      "metadata": {
        "id": "uOqlg2TRLVh1"
      },
      "execution_count": 78,
      "outputs": []
    },
    {
      "cell_type": "code",
      "source": [
        "##########################################\n",
        "# --- Agente 4: Revisor de Qualidade --- #\n",
        "##########################################\n",
        "def agente_revisor(topico, rascunho_gerado):\n",
        "    revisor = Agent(\n",
        "        name=\"agente_revisor\",\n",
        "        model=\"gemini-2.0-flash\",\n",
        "        instruction=\"\"\"\n",
        "            Você é um Editor e Revisor de Conteúdo meticuloso, especializado em posts para redes sociais, com foco no Instagram.\n",
        "            Por ter um público jovem, entre 18 e 30 anos, use um tom de escrita adequado.\n",
        "            Revise o rascunho de post de Instagram abaixo sobre o tópico indicado, verificando clareza, concisão, correção e tom.\n",
        "            Se o rascunho estiver bom, responda apenas 'O rascunho está ótimo e pronto para publicar!'.\n",
        "            Caso haja problemas, aponte-os e sugira melhorias.\n",
        "            \"\"\",\n",
        "        description=\"Agente revisor de post para redes sociais.\"\n",
        "    )\n",
        "    entrada_do_agente_revisor = f\"Tópico: {topico}\\nRascunho: {rascunho_gerado}\"\n",
        "    # Executa o agente\n",
        "    texto_revisado = call_agent(revisor, entrada_do_agente_revisor)\n",
        "    return texto_revisado"
      ],
      "metadata": {
        "id": "_aTb1SdkLeT6"
      },
      "execution_count": 79,
      "outputs": []
    },
    {
      "cell_type": "code",
      "source": [
        "data_de_hoje = date.today().strftime(\"%d/%m/%Y\")\n",
        "\n",
        "print(\"🚀 Iniciando o Sistema de Criação de Posts para Instagram com 4 Agentes 🚀\")\n",
        "\n",
        "# --- Obter o Tópico do Usuário ---\n",
        "topico = input(\"❓ Por favor, digite o TÓPICO sobre o qual você quer criar o post de tendências: \")\n",
        "\n",
        "# Inserir lógica do sistema de agentes ################################################\n",
        "if not topico:\n",
        "    print(\"Você esqueceu de digitar o tópico!\")\n",
        "else:\n",
        "  print(f\"Maravilha! Vamos então criar o post sobre novidades em {topico}\")\n",
        "\n",
        "  lancamentos_buscados = agente_buscador(topico, data_de_hoje)\n",
        "  print(\"\\n--- 📝 Resultado do Agente 1 (Buscador) ---\\n\")\n",
        "  display(to_markdown(lancamentos_buscados))\n",
        "  print(\"--------------------------------------------------------------\")\n",
        "\n",
        "  plano_de_post = agente_planejador(topico, lancamentos_buscados)\n",
        "  print(\"\\n--- 📝 Resultado do Agente 2 (Planejador) ---\\n\")\n",
        "  display(to_markdown(plano_de_post))\n",
        "  print(\"--------------------------------------------------------------\")\n",
        "\n",
        "  rascunho_de_post = agente_redator(topico, plano_de_post)\n",
        "  print(\"\\n--- 📝 Resultado do Agente 3 (Redator) ---\\n\")\n",
        "  display(to_markdown(rascunho_de_post))\n",
        "  print(\"--------------------------------------------------------------\")\n",
        "\n",
        "  post_final = agente_revisor(topico, rascunho_de_post)\n",
        "  print(\"\\n--- 📝 Resultado do Agente 4 (Revisor) ---\\n\")\n",
        "  display(to_markdown(post_final))\n",
        "  print(\"--------------------------------------------------------------\")"
      ],
      "metadata": {
        "id": "630ummxz4myx",
        "colab": {
          "base_uri": "https://localhost:8080/",
          "height": 1000
        },
        "outputId": "fe4a4d7f-4673-4517-862a-d3c2d5b47445"
      },
      "execution_count": 81,
      "outputs": [
        {
          "output_type": "stream",
          "name": "stdout",
          "text": [
            "🚀 Iniciando o Sistema de Criação de Posts para Instagram com 4 Agentes 🚀\n",
            "❓ Por favor, digite o TÓPICO sobre o qual você quer criar o post de tendências: futebol\n",
            "Maravilha! Vamos então criar o post sobre novidades em futebol\n",
            "\n",
            "--- 📝 Resultado do Agente 1 (Buscador) ---\n",
            "\n"
          ]
        },
        {
          "output_type": "display_data",
          "data": {
            "text/plain": [
              "<IPython.core.display.Markdown object>"
            ],
            "text/markdown": "> Aqui estão algumas buscas que podem me ajudar a encontrar os lançamentos mais relevantes no futebol no último mês:\n> \n> \n> Com base nas notícias e tendências atuais no mundo do futebol, aqui estão alguns lançamentos e acontecimentos de destaque que provavelmente serão relevantes em maio de 2025:\n> \n> **1. Competições de Clubes:**\n> \n> *   **Novo Mundial de Clubes da FIFA:** A estreia do novo formato do Mundial de Clubes, com 32 equipes, está prevista para junho de 2025 nos Estados Unidos. Este evento é aguardado com grande expectativa e promete ser um dos maiores lançamentos do ano no futebol. O Los Angeles FC e o América disputarão um playoff em 31 de maio para definir a última vaga na fase de grupos. O vencedor entrará no Grupo D, que já conta com Flamengo, Espérance de Tunis e Chelsea.\n> *   **Finais das Competições Europeias:** As finais da UEFA Champions League, Europa League e Conference League acontecerão em maio de 2025. As cidades de Munique, Bilbau e Wroclaw sediarão esses eventos, respectivamente.\n> \n> **2. Ligas Nacionais e Regionais:**\n> \n> *   **Competições Europeias:** As principais ligas europeias, como a Premier League, La Liga e Serie A Italiana, estão em andamento e se estenderão até maio de 2025. As finais da Copa do Rei (Espanha), Copa da Itália e Copa da Inglaterra também serão decididas entre abril e maio de 2025.\n> *   **Brasileirão Série A:** O Campeonato Brasileiro Série A estará em andamento em maio, com clássicos e jogos importantes.\n> *   **Mercado de Transferências:** A janela de transferências de verão no futebol brasileiro se aproxima, com clubes buscando reforços para o Mundial de Clubes e para a sequência da temporada. Rumores e negociações envolvendo jogadores como Lima e Jorginho estão circulando.\n> *   **Taça Revelação:** O Benfica Sub-23 se classificou para as semifinais da Taça Revelação após vencer o Estrela da Amadora por 7-0.\n> \n> **3. Jogadores em Destaque:**\n> \n> *   **Jovens Talentos:** Estêvão, do Palmeiras, é apontado como um dos jovens jogadores a serem observados em 2025. Outros jovens talentos incluem Fidel Ambriz (Monterrey) e Jamie Bynoe-Gittens (Borussia Dortmund).\n> *   **NXGN 2025:** A Goal.com listou os 50 melhores jovens talentos do futebol mundial nascidos a partir de janeiro de 2006. Chido Obi, do Manchester United, está entre os destaques.\n> *   **Promessas para 2025:** Gabriel Silva (Sporting), Lucas Taibo (Sporting) e Gustavo Varela (Benfica) são apontados como jovens jogadores com potencial para se destacarem em 2025.\n> \n> **4. Transferências:**\n> \n> *   Pietro Comuzzo renovou com a Fiorentina até 2029.\n> *   Álvaro Carreras pode se transferir para o Real Madrid.\n> *   Tiago Fernandes deixará o comando técnico do Torreense.\n> \n> Esta lista destaca alguns dos principais lançamentos e tendências no mundo do futebol em maio de 2025. As notícias estão em constante evolução, então é bom ficar atento para mais atualizações.\n> \n"
          },
          "metadata": {}
        },
        {
          "output_type": "stream",
          "name": "stdout",
          "text": [
            "--------------------------------------------------------------\n",
            "\n",
            "--- 📝 Resultado do Agente 2 (Planejador) ---\n",
            "\n"
          ]
        },
        {
          "output_type": "display_data",
          "data": {
            "text/plain": [
              "<IPython.core.display.Markdown object>"
            ],
            "text/markdown": "> Com base nos lançamentos e acontecimentos de destaque no mundo do futebol em maio de 2025, posso sugerir os seguintes pontos para posts em redes sociais:\n> \n> **1. Novo Mundial de Clubes da FIFA:**\n> \n> *   **Pontos Relevantes:**\n>     *   Estreia do novo formato com 32 equipes.\n>     *   Local: Estados Unidos, em junho de 2025.\n>     *   Playoff entre Los Angeles FC e América para a última vaga.\n>     *   Presença de grandes clubes como Flamengo, Chelsea e Espérance de Tunis.\n> *   **Assuntos para o Post:**\n>     *   Explicar o novo formato do Mundial de Clubes e sua importância.\n>     *   Analisar os grupos e os principais confrontos esperados.\n>     *   Destacar a preparação dos clubes e as expectativas para o torneio.\n> \n> **2. Finais das Competições Europeias:**\n> \n> *   **Pontos Relevantes:**\n>     *   Finais da Champions League, Europa League e Conference League em maio de 2025.\n>     *   Cidades-sede: Munique, Bilbau e Wroclaw.\n>     *   Disputa entre os melhores clubes da Europa pelos títulos.\n> *   **Assuntos para o Post:**\n>     *   Analisar os finalistas e seus caminhos até a final.\n>     *   Destacar os jogadores-chave e as táticas esperadas para os jogos.\n>     *   Criar enquetes e promover discussões sobre os favoritos.\n> \n> **3. Jovens Talentos:**\n> \n> *   **Pontos Relevantes:**\n>     *   Destaque para Estêvão (Palmeiras), Fidel Ambriz (Monterrey) e Jamie Bynoe-Gittens (Borussia Dortmund).\n>     *   Lista NXGN 2025 com os 50 melhores jovens talentos nascidos a partir de 2006.\n>     *   Promessas como Gabriel Silva (Sporting), Lucas Taibo (Sporting) e Gustavo Varela (Benfica).\n> *   **Assuntos para o Post:**\n>     *   Apresentar os principais jovens talentos e suas características.\n>     *   Mostrar vídeos e lances dos jogadores em destaque.\n>     *   Debater sobre o futuro desses jovens no futebol mundial.\n> \n> **Escolha do Tema Mais Relevante e Plano Detalhado:**\n> \n> Considerando o impacto global e o interesse do público, o tema mais relevante é o **Novo Mundial de Clubes da FIFA**.\n> \n> **Plano Detalhado para um Post sobre o Mundial de Clubes:**\n> \n> *   **Assunto 1: O que é o Novo Mundial de Clubes?**\n>     *   Explicar o novo formato com 32 equipes, substituindo o antigo modelo.\n>     *   Detalhar o período e o local de realização: junho de 2025, nos Estados Unidos.\n>     *   Mencionar o objetivo da FIFA em tornar o torneio mais competitivo e global.\n> *   **Assunto 2: Clubes Participantes e Expectativas**\n>     *   Listar alguns dos principais clubes já classificados, como Flamengo, Chelsea e Real Madrid.\n>     *   Destacar o playoff entre Los Angeles FC e América pela última vaga.\n>     *   Analisar as chances dos clubes sul-americanos e europeus, criando expectativas para os confrontos.\n> \n> Para aprofundar a pesquisa sobre o tema, posso usar as seguintes buscas no Google:\n> \n> Com base nas informações coletadas, aqui está um plano de conteúdo detalhado sobre o Novo Mundial de Clubes da FIFA:\n> \n> **Tópico:** Novo Mundial de Clubes da FIFA 2025\n> \n> **Assuntos para Abordar no Post:**\n> \n> 1.  **O que é o Novo Mundial de Clubes?**\n>     *   Explicar o novo formato com 32 equipes, substituindo o antigo modelo.\n>     *   Detalhar o período e o local de realização: de 14 de junho a 13 de julho de 2025, nos Estados Unidos.\n>     *   Mencionar o objetivo da FIFA em tornar o torneio mais competitivo e global.\n>     *   Formato do torneio: Fase de grupos com 8 grupos de 4 equipes, seguido de oitavas, quartas, semi e final em jogos únicos.\n>     *   Não haverá disputa pelo terceiro lugar.\n> \n> 2.  **Clubes Participantes e Expectativas**\n>     *   Listar os clubes já classificados, incluindo os brasileiros: Palmeiras, Flamengo, Fluminense e Botafogo.\n>     *   Destaque para outros clubes como Chelsea, Real Madrid, PSG, Bayern de Munique, Inter de Milão, Porto, Benfica e clubes de outras confederações.\n>     *   Analisar os grupos e os possíveis confrontos, criando expectativas.\n>     *   Grupos:\n>         *   Grupo A: Palmeiras, Porto, Al Ahly, Inter Miami CF.\n>         *   Grupo B: Botafogo, Paris Saint-Germain, Atlético de Madrid, Seattle Sounders FC.\n>         *   Grupo D: Flamengo, Chelsea, Espérance de Tunis, e um clube a ser definido.\n>         *   Grupo F: Fluminense, Borussia Dortmund, Ulsan HD, Mamelodi Sundowns.\n>     *   Discutir as chances dos clubes sul-americanos e europeus.\n>     *   Possível premiação de mais de 1 bilhão de dólares a serem distribuídos entre os clubes.\n> \n> 3.  **Onde Assistir e Outros Detalhes**\n>     *   Informar sobre os canais de transmissão, como a CazéTV, que transmitirá no mínimo 39 jogos.\n>     *   Detalhes sobre as cidades-sede nos Estados Unidos e os estádios.\n>     *   Citar o jogo de abertura entre Inter Miami e Al Ahly no Hard Rock Stadium.\n>     *   A final será no MetLife Stadium em Nova Jersey.\n> \n> **Hashtags:**\n> \n> *   \\#MundialDeClubes\n> *   \\#FIFA\n> *   \\#Futebol\n> *   \\#Clubes\n> *   \\#MundialDeClubesFIFA2025\n> \n> Este plano oferece uma visão geral completa do Novo Mundial de Clubes da FIFA, ideal para gerar engajamento e informar o público sobre este grande evento esportivo.\n> \n"
          },
          "metadata": {}
        },
        {
          "output_type": "stream",
          "name": "stdout",
          "text": [
            "--------------------------------------------------------------\n",
            "\n",
            "--- 📝 Resultado do Agente 3 (Redator) ---\n",
            "\n"
          ]
        },
        {
          "output_type": "display_data",
          "data": {
            "text/plain": [
              "<IPython.core.display.Markdown object>"
            ],
            "text/markdown": "> ⚽️ O MUNDIAL DE CLUBES VAI TREMER AS AMÉRICAS! ⚽️\n> \n> Preparem seus corações, fanáticos por futebol! O Novo Mundial de Clubes da FIFA está chegando com um formato INÉDITO e promete parar o mundo! 🌎\n> \n> 🏆 O que mudou? Agora são 32 CLUBES disputando o título em um formato turbinado! De 14 de junho a 13 de julho de 2025, os Estados Unidos serão palco de um espetáculo que você não vai querer perder.\n> \n> 🇧🇷 Clubes confirmados:\n> Palmeiras no Grupo A, Botafogo no Grupo B, Flamengo no Grupo D e Fluminense no Grupo F.\n> E tem mais: Chelsea, Real Madrid, PSG, Bayern de Munique, Inter de Milão, Porto, Benfica...\n> E o jogão de abertura entre Inter Miami e Al Ahly no Hard Rock Stadium\n> \n> 🔥 Emoção garantida: Fase de grupos ACIRRADA, seguida de oitavas, quartas, semi e a GRANDE FINAL! E não para por aí: premiação de mais de 1 bilhão de dólares a serem distribuídos entre os clubes.\n> A final será no MetLife Stadium em Nova Jersey.\n> \n> 📺 Onde assistir? Fique ligado! A CazéTV vai transmitir no mínimo 39 jogos! Prepare a torcida e não perca nenhum lance!\n> \n> Quem leva essa? 👀 Deixe seu palpite nos comentários e compartilhe com a galera! 👇\n> \n> \\#MundialDeClubes \\#FIFA \\#Futebol \\#Clubes \\#MundialDeClubesFIFA2025\n> \n"
          },
          "metadata": {}
        },
        {
          "output_type": "stream",
          "name": "stdout",
          "text": [
            "--------------------------------------------------------------\n",
            "\n",
            "--- 📝 Resultado do Agente 4 (Revisor) ---\n",
            "\n"
          ]
        },
        {
          "output_type": "display_data",
          "data": {
            "text/plain": [
              "<IPython.core.display.Markdown object>"
            ],
            "text/markdown": "> O rascunho está bom, mas podemos deixá-lo ainda mais interessante para o público do Instagram, com foco em jovens de 18 a 30 anos. Aqui estão algumas sugestões:\n> \n> *   **Tom:** O tom está um pouco formal. Podemos usar mais gírias e expressões que o público jovem usa.\n> *   **Emojis:** Podemos adicionar mais emojis que representem os times e as seleções que vão participar.\n> *   **Hashtags:** Podemos adicionar hashtags mais específicas para aumentar o alcance.\n> \n> **Sugestão de post revisado:**\n> \n> ⚽️ O MUNDIAL DE CLUBES VAI SER ÉPICO! ⚽️\n> \n> Se preparem, apaixonados por futebol! O Novo Mundial de Clubes da FIFA tá chegando com um formato INÉDITO e vai ser SENSACIONAL! 🌎\n> \n> 🏆 O que mudou? Agora são 32 CLUBES disputando o título em um formato turbinado! De 14 de junho a 13 de julho de 2025, os Estados Unidos vão tremer com esse espetáculo! 🏟️🇺🇸\n> \n> 🇧🇷 Clubes confirmados:\n> Palmeiras no Grupo A 🏆, Botafogo no Grupo B 🔥, Flamengo no Grupo D 🔴⚫ e Fluminense no Grupo F 💚.\n> E tem mais: Chelsea 💙, Real Madrid 🤍, PSG ❤️💙, Bayern de Munique ❤️, Inter de Milão ⚫🔵, Porto 🔵⚪, Benfica 🔴...\n> E o jogão de abertura vai ser entre Inter Miami 🩷 e Al Ahly 🇪🇬 no Hard Rock Stadium 🏟️\n> \n> 🔥 Emoção garantida: Fase de grupos PEGADA, seguida de oitavas, quartas, semi e a GRANDE FINAL! E não para por aí: premiação de mais de 1 bilhão de dólares pra galera! 💰💰💰\n> A final vai ser no MetLife Stadium em Nova Jersey 🏟️.\n> \n> 📺 Onde assistir? Fiquem ligados! A CazéTV vai transmitir no mínimo 39 jogos! Preparem a torcida e não percam NADA! ⚽\n> \n> Quem leva essa? 👀 Deixem seus palpites nos comentários e mandem pra geral! 👇\n> \n> \\#MundialDeClubes \\#FIFA \\#Futebol \\#Clubes \\#MundialDeClubesFIFA2025 \\#CazéTV \\#Palmeiras \\#Botafogo \\#Flamengo \\#Fluminense \\#InterMiami \\#AlAhly\n> \n"
          },
          "metadata": {}
        },
        {
          "output_type": "stream",
          "name": "stdout",
          "text": [
            "--------------------------------------------------------------\n"
          ]
        }
      ]
    }
  ]
}